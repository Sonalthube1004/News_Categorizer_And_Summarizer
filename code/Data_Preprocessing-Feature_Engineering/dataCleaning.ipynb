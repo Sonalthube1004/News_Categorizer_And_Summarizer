{
 "cells": [
  {
   "cell_type": "markdown",
   "metadata": {},
   "source": [
    "# Importing Libraries"
   ]
  },
  {
   "cell_type": "code",
   "execution_count": 1,
   "metadata": {},
   "outputs": [],
   "source": [
    "import pandas as pd\n",
    "from bs4 import BeautifulSoup\n",
    "import re"
   ]
  },
  {
   "cell_type": "markdown",
   "metadata": {},
   "source": [
    "# Loading the Dataset in a Pandas DataFrame"
   ]
  },
  {
   "cell_type": "code",
   "execution_count": null,
   "metadata": {},
   "outputs": [],
   "source": [
    "df=pd.read_csv('NewsClassification.csv') \n",
    "print(df.shape)\n",
    "print(df.head())"
   ]
  },
  {
   "cell_type": "markdown",
   "metadata": {},
   "source": [
    "# Dropping rows having Nan Values"
   ]
  },
  {
   "cell_type": "code",
   "execution_count": 2,
   "metadata": {},
   "outputs": [
    {
     "name": "stdout",
     "output_type": "stream",
     "text": [
      "(23012, 8)\n",
      "23012\n",
      "23012\n",
      "23012\n",
      "23012\n"
     ]
    }
   ],
   "source": [
    "dfnew=df.dropna(subset=['body','category','blurb','author'])\n",
    "print(dfnew.shape)\n",
    "dfnew.reset_index(drop=True,inplace=True)\n",
    "body=dfnew['body']\n",
    "title=dfnew['title']\n",
    "blurb=dfnew['blurb']\n",
    "category=dfnew['category']\n",
    "author=dfnew['author']\n",
    "print(len(body))\n",
    "print(len(title))\n",
    "print(len(blurb))\n",
    "print(len(category))"
   ]
  },
  {
   "cell_type": "markdown",
   "metadata": {},
   "source": [
    "# Removing Non ascii charcters from news description"
   ]
  },
  {
   "cell_type": "code",
   "execution_count": 21,
   "metadata": {},
   "outputs": [],
   "source": [
    "def remove_non_ascii_1(text):\n",
    "    return ''.join([i if ord(i) < 128 else ' ' for i in text])\n"
   ]
  },
  {
   "cell_type": "markdown",
   "metadata": {},
   "source": [
    "# Cleaning html tags from News Description(body)"
   ]
  },
  {
   "cell_type": "code",
   "execution_count": 22,
   "metadata": {},
   "outputs": [],
   "source": [
    "cleanBody=[]\n",
    "cleantitle=[]\n",
    "cleanblurb=[]\n",
    "cleancategory=[]\n",
    "cleanauthor=[]\n",
    "for i in range(0,len(body)):\n",
    "    if isinstance(body[i],str):\n",
    "        soup = BeautifulSoup(body[i])\n",
    "        clean1=soup.get_text()\n",
    "        cleanedText = clean1.replace(r'\\n',\"\")\n",
    "        clbody=remove_non_ascii_1(cleanedText)\n",
    "        cleanBody.append(clbody)\n",
    "       \n",
    "        cltitle=remove_non_ascii_1(title[i])\n",
    "        cleantitle.append(cltitle)\n",
    "        \n",
    "        clblurb=remove_non_ascii_1(blurb[i])\n",
    "        cleanblurb.append(clblurb)\n",
    "        \n",
    "        clcategory=remove_non_ascii_1(category[i])  \n",
    "        cleancategory.append(clcategory)\n",
    "        \n",
    "        clauthor=remove_non_ascii_1(author[i])  \n",
    "        cleanauthor.append(clauthor)\n",
    "    else:\n",
    "        print(i,':',)\n",
    "        print(i,':',body[i])\n",
    "        cleanBody.append('')"
   ]
  },
  {
   "cell_type": "code",
   "execution_count": 23,
   "metadata": {},
   "outputs": [
    {
     "name": "stdout",
     "output_type": "stream",
     "text": [
      "23012\n",
      "23012\n",
      "23012\n",
      "23012\n",
      "23012\n"
     ]
    }
   ],
   "source": [
    "print(len(cleanBody))\n",
    "print(len(cleantitle))\n",
    "print(len(cleanblurb))\n",
    "print(len(cleancategory))\n",
    "print(len(cleanauthor))"
   ]
  },
  {
   "cell_type": "code",
   "execution_count": null,
   "metadata": {},
   "outputs": [],
   "source": [
    "dfnew['title']=cleantitle"
   ]
  },
  {
   "cell_type": "code",
   "execution_count": 24,
   "metadata": {},
   "outputs": [
    {
     "name": "stderr",
     "output_type": "stream",
     "text": [
      "C:\\Users\\honra\\Anaconda3\\lib\\site-packages\\ipykernel_launcher.py:1: SettingWithCopyWarning: \n",
      "A value is trying to be set on a copy of a slice from a DataFrame.\n",
      "Try using .loc[row_indexer,col_indexer] = value instead\n",
      "\n",
      "See the caveats in the documentation: http://pandas.pydata.org/pandas-docs/stable/indexing.html#indexing-view-versus-copy\n",
      "  \"\"\"Entry point for launching an IPython kernel.\n",
      "C:\\Users\\honra\\Anaconda3\\lib\\site-packages\\ipykernel_launcher.py:2: SettingWithCopyWarning: \n",
      "A value is trying to be set on a copy of a slice from a DataFrame.\n",
      "Try using .loc[row_indexer,col_indexer] = value instead\n",
      "\n",
      "See the caveats in the documentation: http://pandas.pydata.org/pandas-docs/stable/indexing.html#indexing-view-versus-copy\n",
      "  \n",
      "C:\\Users\\honra\\Anaconda3\\lib\\site-packages\\ipykernel_launcher.py:3: SettingWithCopyWarning: \n",
      "A value is trying to be set on a copy of a slice from a DataFrame.\n",
      "Try using .loc[row_indexer,col_indexer] = value instead\n",
      "\n",
      "See the caveats in the documentation: http://pandas.pydata.org/pandas-docs/stable/indexing.html#indexing-view-versus-copy\n",
      "  This is separate from the ipykernel package so we can avoid doing imports until\n",
      "C:\\Users\\honra\\Anaconda3\\lib\\site-packages\\ipykernel_launcher.py:4: SettingWithCopyWarning: \n",
      "A value is trying to be set on a copy of a slice from a DataFrame.\n",
      "Try using .loc[row_indexer,col_indexer] = value instead\n",
      "\n",
      "See the caveats in the documentation: http://pandas.pydata.org/pandas-docs/stable/indexing.html#indexing-view-versus-copy\n",
      "  after removing the cwd from sys.path.\n",
      "C:\\Users\\honra\\Anaconda3\\lib\\site-packages\\ipykernel_launcher.py:5: SettingWithCopyWarning: \n",
      "A value is trying to be set on a copy of a slice from a DataFrame.\n",
      "Try using .loc[row_indexer,col_indexer] = value instead\n",
      "\n",
      "See the caveats in the documentation: http://pandas.pydata.org/pandas-docs/stable/indexing.html#indexing-view-versus-copy\n",
      "  \"\"\"\n"
     ]
    },
    {
     "data": {
      "text/html": [
       "<div>\n",
       "<style scoped>\n",
       "    .dataframe tbody tr th:only-of-type {\n",
       "        vertical-align: middle;\n",
       "    }\n",
       "\n",
       "    .dataframe tbody tr th {\n",
       "        vertical-align: top;\n",
       "    }\n",
       "\n",
       "    .dataframe thead th {\n",
       "        text-align: right;\n",
       "    }\n",
       "</style>\n",
       "<table border=\"1\" class=\"dataframe\">\n",
       "  <thead>\n",
       "    <tr style=\"text-align: right;\">\n",
       "      <th></th>\n",
       "      <th>title</th>\n",
       "      <th>author</th>\n",
       "      <th>category</th>\n",
       "      <th>published_date</th>\n",
       "      <th>updated_on</th>\n",
       "      <th>slug</th>\n",
       "      <th>blurb</th>\n",
       "      <th>body</th>\n",
       "    </tr>\n",
       "  </thead>\n",
       "  <tbody>\n",
       "    <tr>\n",
       "      <th>0</th>\n",
       "      <td>Bitcoin is down 60 percent this year. Here's w...</td>\n",
       "      <td>Timothy B. Lee</td>\n",
       "      <td>Business &amp; Finance</td>\n",
       "      <td>3/31/2014 14:01</td>\n",
       "      <td>12/16/2014 16:37</td>\n",
       "      <td>http://www.vox.com/2014/3/31/5557170/bitcoin-b...</td>\n",
       "      <td>Bitcoins have lost more than 60 percent of the...</td>\n",
       "      <td>The markets haven't been kind to Bitcoin in 20...</td>\n",
       "    </tr>\n",
       "    <tr>\n",
       "      <th>1</th>\n",
       "      <td>6 health problems marijuana could treat better...</td>\n",
       "      <td>German Lopez</td>\n",
       "      <td>War on Drugs</td>\n",
       "      <td>3/31/2014 15:44</td>\n",
       "      <td>11/17/2014 0:20</td>\n",
       "      <td>http://www.vox.com/2014/3/31/5557700/six-probl...</td>\n",
       "      <td>Medical marijuana could fill gaps that current...</td>\n",
       "      <td>Twenty states have so far legalized the medica...</td>\n",
       "    </tr>\n",
       "    <tr>\n",
       "      <th>2</th>\n",
       "      <td>9 charts that explain the history of global we...</td>\n",
       "      <td>Matthew Yglesias</td>\n",
       "      <td>Business &amp; Finance</td>\n",
       "      <td>4/10/2014 13:30</td>\n",
       "      <td>12/16/2014 15:47</td>\n",
       "      <td>http://www.vox.com/2014/4/10/5561608/9-charts-...</td>\n",
       "      <td>These nine charts from Thomas Piketty's new bo...</td>\n",
       "      <td>Thomas Piketty's book Capital in the 21st Cent...</td>\n",
       "    </tr>\n",
       "    <tr>\n",
       "      <th>3</th>\n",
       "      <td>Remember when legal marijuana was going to sen...</td>\n",
       "      <td>German Lopez</td>\n",
       "      <td>Criminal Justice</td>\n",
       "      <td>4/3/2014 23:25</td>\n",
       "      <td>5/6/2014 21:58</td>\n",
       "      <td>http://www.vox.com/2014/4/3/5563134/marijuana-...</td>\n",
       "      <td>Three months after legalizing marijuana, Denve...</td>\n",
       "      <td>When Colorado legalized recreational marijuana...</td>\n",
       "    </tr>\n",
       "    <tr>\n",
       "      <th>4</th>\n",
       "      <td>Obamacare succeeded for one simple reason: it'...</td>\n",
       "      <td>Sarah Kliff</td>\n",
       "      <td>Health Care</td>\n",
       "      <td>4/1/2014 20:26</td>\n",
       "      <td>11/18/2014 15:09</td>\n",
       "      <td>http://www.vox.com/2014/4/1/5570780/the-two-re...</td>\n",
       "      <td>After a catastrophic launch, Obamacare still s...</td>\n",
       "      <td>There's a very simple reason that Obamacare hi...</td>\n",
       "    </tr>\n",
       "  </tbody>\n",
       "</table>\n",
       "</div>"
      ],
      "text/plain": [
       "                                               title            author  \\\n",
       "0  Bitcoin is down 60 percent this year. Here's w...    Timothy B. Lee   \n",
       "1  6 health problems marijuana could treat better...      German Lopez   \n",
       "2  9 charts that explain the history of global we...  Matthew Yglesias   \n",
       "3  Remember when legal marijuana was going to sen...      German Lopez   \n",
       "4  Obamacare succeeded for one simple reason: it'...       Sarah Kliff   \n",
       "\n",
       "             category   published_date        updated_on  \\\n",
       "0  Business & Finance  3/31/2014 14:01  12/16/2014 16:37   \n",
       "1        War on Drugs  3/31/2014 15:44   11/17/2014 0:20   \n",
       "2  Business & Finance  4/10/2014 13:30  12/16/2014 15:47   \n",
       "3    Criminal Justice   4/3/2014 23:25    5/6/2014 21:58   \n",
       "4         Health Care   4/1/2014 20:26  11/18/2014 15:09   \n",
       "\n",
       "                                                slug  \\\n",
       "0  http://www.vox.com/2014/3/31/5557170/bitcoin-b...   \n",
       "1  http://www.vox.com/2014/3/31/5557700/six-probl...   \n",
       "2  http://www.vox.com/2014/4/10/5561608/9-charts-...   \n",
       "3  http://www.vox.com/2014/4/3/5563134/marijuana-...   \n",
       "4  http://www.vox.com/2014/4/1/5570780/the-two-re...   \n",
       "\n",
       "                                               blurb  \\\n",
       "0  Bitcoins have lost more than 60 percent of the...   \n",
       "1  Medical marijuana could fill gaps that current...   \n",
       "2  These nine charts from Thomas Piketty's new bo...   \n",
       "3  Three months after legalizing marijuana, Denve...   \n",
       "4  After a catastrophic launch, Obamacare still s...   \n",
       "\n",
       "                                                body  \n",
       "0  The markets haven't been kind to Bitcoin in 20...  \n",
       "1  Twenty states have so far legalized the medica...  \n",
       "2  Thomas Piketty's book Capital in the 21st Cent...  \n",
       "3  When Colorado legalized recreational marijuana...  \n",
       "4  There's a very simple reason that Obamacare hi...  "
      ]
     },
     "execution_count": 24,
     "metadata": {},
     "output_type": "execute_result"
    }
   ],
   "source": [
    "dfnew['body']=cleanBody\n",
    "dfnew['title']=cleantitle\n",
    "dfnew['blurb']=cleanblurb\n",
    "dfnew['category']=cleancategory\n",
    "dfnew['author']=cleanauthor\n",
    "dfnew.head()"
   ]
  },
  {
   "cell_type": "code",
   "execution_count": 25,
   "metadata": {},
   "outputs": [],
   "source": [
    "dfnew.to_csv('CleanedNewsData.csv',index=False)"
   ]
  },
  {
   "cell_type": "code",
   "execution_count": 6,
   "metadata": {},
   "outputs": [],
   "source": [
    "df_copy = pd.DataFrame().reindex_like(dfnew)"
   ]
  },
  {
   "cell_type": "code",
   "execution_count": 7,
   "metadata": {},
   "outputs": [
    {
     "data": {
      "text/plain": [
       "(23013, 8)"
      ]
     },
     "execution_count": 7,
     "metadata": {},
     "output_type": "execute_result"
    }
   ],
   "source": [
    "df_copy.shape"
   ]
  },
  {
   "cell_type": "code",
   "execution_count": 12,
   "metadata": {},
   "outputs": [
    {
     "name": "stdout",
     "output_type": "stream",
     "text": [
      "Bitcoin is down 60 percent this year. Here's why I'm still optimistic.\n",
      "6 health problems marijuana could treat better than traditional medicine\n",
      "9 charts that explain the history of global wealth\n",
      "Remember when legal marijuana was going to send crime skyrocketing?\n",
      "Obamacare succeeded for one simple reason: it's horrible to be uninsured\n"
     ]
    }
   ],
   "source": [
    "for i in range(0,5):\n",
    "    print(cleantitle[i])"
   ]
  }
 ],
 "metadata": {
  "kernelspec": {
   "display_name": "Python 3",
   "language": "python",
   "name": "python3"
  },
  "language_info": {
   "codemirror_mode": {
    "name": "ipython",
    "version": 3
   },
   "file_extension": ".py",
   "mimetype": "text/x-python",
   "name": "python",
   "nbconvert_exporter": "python",
   "pygments_lexer": "ipython3",
   "version": "3.7.1"
  }
 },
 "nbformat": 4,
 "nbformat_minor": 2
}
